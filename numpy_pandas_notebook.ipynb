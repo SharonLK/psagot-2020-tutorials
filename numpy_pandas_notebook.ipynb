{
 "cells": [
  {
   "cell_type": "markdown",
   "metadata": {},
   "source": [
    "# Numpy\n",
    "**numpy** is a python library focused around efficient mathematical operations. By abusing caching, using vectorized operations and optimized C code, the numpy package is comparable to operations done in other compiled versions (e.g. C, Java, etc...).\n",
    "\n",
    "Go over the tutorial in [this link](https://numpy.org/doc/stable/user/quickstart.html) to learn how to use numpy."
   ]
  },
  {
   "cell_type": "code",
   "execution_count": 4,
   "metadata": {},
   "outputs": [
    {
     "name": "stdout",
     "output_type": "stream",
     "text": [
      "[[ 0  1  2  3  4  5  6  7  8  9]\n",
      " [10 11 12 13 14 15 16 17 18 19]\n",
      " [20 21 22 23 24 25 26 27 28 29]\n",
      " [30 31 32 33 34 35 36 37 38 39]\n",
      " [40 41 42 43 44 45 46 47 48 49]\n",
      " [50 51 52 53 54 55 56 57 58 59]\n",
      " [60 61 62 63 64 65 66 67 68 69]\n",
      " [70 71 72 73 74 75 76 77 78 79]\n",
      " [80 81 82 83 84 85 86 87 88 89]\n",
      " [90 91 92 93 94 95 96 97 98 99]]\n",
      "[450 460 470 480 490 500 510 520 530 540]\n",
      "[ 45 145 245 345 445 545 645 745 845 945]\n"
     ]
    }
   ],
   "source": [
    "import numpy as np\n",
    "\n",
    "arr = np.arange(0, 100).reshape(10, 10)\n",
    "print(arr)\n",
    "\n",
    "print(np.sum(arr, axis=0))\n",
    "print(np.sum(arr, axis=1))"
   ]
  },
  {
   "cell_type": "markdown",
   "metadata": {},
   "source": [
    "# Pandas"
   ]
  },
  {
   "cell_type": "code",
   "execution_count": 14,
   "metadata": {},
   "outputs": [
    {
     "name": "stdout",
     "output_type": "stream",
     "text": [
      "Index(['Name', 'Allegiances', 'Death Year', 'Book of Death', 'Death Chapter',\n",
      "       'Book Intro Chapter', 'Gender', 'Nobility', 'GoT', 'CoK', 'SoS', 'FfC',\n",
      "       'DwD'],\n",
      "      dtype='object')\n",
      "                      Name      Allegiances  Death Year  Book of Death  \\\n",
      "0           Addam Marbrand        Lannister         NaN            NaN   \n",
      "1  Aegon Frey (Jinglebell)             None       299.0            3.0   \n",
      "2          Aegon Targaryen  House Targaryen         NaN            NaN   \n",
      "3            Adrack Humble    House Greyjoy       300.0            5.0   \n",
      "4           Aemon Costayne        Lannister         NaN            NaN   \n",
      "\n",
      "   Death Chapter  Book Intro Chapter  Gender  Nobility  GoT  CoK  SoS  FfC  \\\n",
      "0            NaN                56.0       1         1    1    1    1    1   \n",
      "1           51.0                49.0       1         1    0    0    1    0   \n",
      "2            NaN                 5.0       1         1    0    0    0    0   \n",
      "3           20.0                20.0       1         1    0    0    0    0   \n",
      "4            NaN                 NaN       1         1    0    0    1    0   \n",
      "\n",
      "   DwD  \n",
      "0    0  \n",
      "1    0  \n",
      "2    1  \n",
      "3    1  \n",
      "4    0  \n"
     ]
    },
    {
     "data": {
      "text/plain": [
       "Book of Death\n",
       "1.0    0.346939\n",
       "2.0    0.356164\n",
       "3.0    0.422680\n",
       "4.0    0.481481\n",
       "5.0    0.344262\n",
       "dtype: float64"
      ]
     },
     "execution_count": 14,
     "metadata": {},
     "output_type": "execute_result"
    }
   ],
   "source": [
    "import pandas as pd\n",
    "\n",
    "df = pd.read_csv('resources/got-character-deaths.csv')\n",
    "print(df.columns)\n",
    "print(df.head())\n",
    "df.groupby('Book of Death').apply(lambda series: series['Nobility'].mean())"
   ]
  }
 ],
 "metadata": {
  "kernelspec": {
   "display_name": "Python 3",
   "language": "python",
   "name": "python3"
  },
  "language_info": {
   "codemirror_mode": {
    "name": "ipython",
    "version": 3
   },
   "file_extension": ".py",
   "mimetype": "text/x-python",
   "name": "python",
   "nbconvert_exporter": "python",
   "pygments_lexer": "ipython3",
   "version": "3.8.5"
  }
 },
 "nbformat": 4,
 "nbformat_minor": 4
}
